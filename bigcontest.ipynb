{
  "nbformat": 4,
  "nbformat_minor": 0,
  "metadata": {
    "colab": {
      "name": "bigcontest.ipynb",
      "provenance": [],
      "mount_file_id": "1R_s_8W6hfTFSQ0ZfC4nYGBtN9O-tqEJ8",
      "authorship_tag": "ABX9TyMhG91Ves+Uwc4WWLFgFKLN",
      "include_colab_link": true
    },
    "kernelspec": {
      "name": "python3",
      "display_name": "Python 3"
    }
  },
  "cells": [
    {
      "cell_type": "markdown",
      "metadata": {
        "id": "view-in-github",
        "colab_type": "text"
      },
      "source": [
        "<a href=\"https://colab.research.google.com/github/WhalepigJun/Bigcontest_KBO/blob/master/bigcontest.ipynb\" target=\"_parent\"><img src=\"https://colab.research.google.com/assets/colab-badge.svg\" alt=\"Open In Colab\"/></a>"
      ]
    },
    {
      "cell_type": "code",
      "metadata": {
        "id": "jq82wW9b8J9r",
        "colab_type": "code",
        "colab": {}
      },
      "source": [
        "import numpy as np\n",
        "import pandas as pd"
      ],
      "execution_count": 1,
      "outputs": []
    },
    {
      "cell_type": "code",
      "metadata": {
        "id": "c_6NR4t4A3R1",
        "colab_type": "code",
        "colab": {}
      },
      "source": [
        "# 개인타자\n",
        "hitter_2016 = pd.read_csv(\"/content/drive/My Drive/Colab Notebooks/bigcontest/data/sheet_season/2020빅콘테스트_스포츠투아이_제공데이터_개인타자_2016.csv\")\n",
        "hitter_2017 = pd.read_csv(\"/content/drive/My Drive/Colab Notebooks/bigcontest/data/sheet_season/2020빅콘테스트_스포츠투아이_제공데이터_개인타자_2017.csv\")\n",
        "hitter_2018 = pd.read_csv(\"/content/drive/My Drive/Colab Notebooks/bigcontest/data/sheet_season/2020빅콘테스트_스포츠투아이_제공데이터_개인타자_2018.csv\")\n",
        "hitter_2019 = pd.read_csv(\"/content/drive/My Drive/Colab Notebooks/bigcontest/data/sheet_season/2020빅콘테스트_스포츠투아이_제공데이터_개인타자_2019.csv\")\n",
        "hitter_2020 = pd.read_csv(\"/content/drive/My Drive/Colab Notebooks/bigcontest/data/sheet_season/2020빅콘테스트_스포츠투아이_제공데이터_개인타자_2020.csv\")\n",
        "\n",
        "#경기\n",
        "game_2016 = pd.read_csv(\"/content/drive/My Drive/Colab Notebooks/bigcontest/data/sheet_season/2020빅콘테스트_스포츠투아이_제공데이터_경기_2016.csv\", encoding=\"CP949\")\n",
        "game_2017 = pd.read_csv(\"/content/drive/My Drive/Colab Notebooks/bigcontest/data/sheet_season/2020빅콘테스트_스포츠투아이_제공데이터_경기_2017.csv\", encoding=\"CP949\")\n",
        "game_2018 = pd.read_csv(\"/content/drive/My Drive/Colab Notebooks/bigcontest/data/sheet_season/2020빅콘테스트_스포츠투아이_제공데이터_경기_2018.csv\", encoding=\"CP949\")\n",
        "game_2019 = pd.read_csv(\"/content/drive/My Drive/Colab Notebooks/bigcontest/data/sheet_season/2020빅콘테스트_스포츠투아이_제공데이터_경기_2019.csv\", encoding=\"CP949\")\n",
        "game_2020 = pd.read_csv(\"/content/drive/My Drive/Colab Notebooks/bigcontest/data/sheet_season/2020빅콘테스트_스포츠투아이_제공데이터_경기_2020.csv\", encoding=\"CP949\")\n",
        "\n",
        "#선수\n",
        "player_2016 = pd.read_csv(\"/content/drive/My Drive/Colab Notebooks/bigcontest/data/sheet_season/2020빅콘테스트_스포츠투아이_제공데이터_선수_2016.csv\", encoding=\"CP949\")\n",
        "player_2017 = pd.read_csv(\"/content/drive/My Drive/Colab Notebooks/bigcontest/data/sheet_season/2020빅콘테스트_스포츠투아이_제공데이터_선수_2017.csv\", encoding=\"CP949\")\n",
        "player_2018 = pd.read_csv(\"/content/drive/My Drive/Colab Notebooks/bigcontest/data/sheet_season/2020빅콘테스트_스포츠투아이_제공데이터_선수_2018.csv\", encoding=\"CP949\")\n",
        "player_2019 = pd.read_csv(\"/content/drive/My Drive/Colab Notebooks/bigcontest/data/sheet_season/2020빅콘테스트_스포츠투아이_제공데이터_선수_2019.csv\", encoding=\"CP949\")\n",
        "player_2020 = pd.read_csv(\"/content/drive/My Drive/Colab Notebooks/bigcontest/data/sheet_season/2020빅콘테스트_스포츠투아이_제공데이터_선수_2020.csv\", encoding=\"CP949\")\n",
        "\n",
        "#등록선수\n",
        "resistered_2016 = pd.read_csv(\"/content/drive/My Drive/Colab Notebooks/bigcontest/data/sheet_season/2020빅콘테스트_스포츠투아이_제공데이터_등록선수_2016.csv\", encoding=\"CP949\")\n",
        "resistered_2017 = pd.read_csv(\"/content/drive/My Drive/Colab Notebooks/bigcontest/data/sheet_season/2020빅콘테스트_스포츠투아이_제공데이터_등록선수_2017.csv\", encoding=\"CP949\")\n",
        "resistered_2018 = pd.read_csv(\"/content/drive/My Drive/Colab Notebooks/bigcontest/data/sheet_season/2020빅콘테스트_스포츠투아이_제공데이터_등록선수_2018.csv\", encoding=\"CP949\")\n",
        "resistered_2019 = pd.read_csv(\"/content/drive/My Drive/Colab Notebooks/bigcontest/data/sheet_season/2020빅콘테스트_스포츠투아이_제공데이터_등록선수_2019.csv\", encoding=\"CP949\")\n",
        "resistered_2020 = pd.read_csv(\"/content/drive/My Drive/Colab Notebooks/bigcontest/data/sheet_season/2020빅콘테스트_스포츠투아이_제공데이터_등록선수_2020.csv\", encoding=\"CP949\")\n"
      ],
      "execution_count": 2,
      "outputs": []
    },
    {
      "cell_type": "code",
      "metadata": {
        "id": "QI82AccDCBO2",
        "colab_type": "code",
        "colab": {
          "base_uri": "https://localhost:8080/",
          "height": 269
        },
        "outputId": "a9c02409-14d9-4f63-9118-5ce97cf6f7cb"
      },
      "source": [
        "hitter_2019.head"
      ],
      "execution_count": 3,
      "outputs": [
        {
          "output_type": "execute_result",
          "data": {
            "text/plain": [
              "<bound method NDFrame.head of                 G_ID   GDAY_DS T_ID VS_T_ID  ...  LOB P_HRA_RT  P_AB_CN  P_HIT_CN\n",
              "0      20190323HHOB0  20190323   HH      OB  ...    0      0.0        0         0\n",
              "1      20190323HHOB0  20190323   OB      HH  ...    0      0.0        0         0\n",
              "2      20190323HHOB0  20190323   HH      OB  ...    0      0.0        3         0\n",
              "3      20190323HHOB0  20190323   HH      OB  ...    0      0.0        1         0\n",
              "4      20190323HHOB0  20190323   HH      OB  ...    3      0.0        1         0\n",
              "...              ...       ...  ...     ...  ...  ...      ...      ...       ...\n",
              "17616  20191001WOLT0  20191001   LT      WO  ...    1      0.0        0         0\n",
              "17617  20191001WOLT0  20191001   WO      LT  ...    0      0.0        0         0\n",
              "17618  20191001WOLT0  20191001   LT      WO  ...    1      0.0        0         0\n",
              "17619  20191001WOLT0  20191001   WO      LT  ...    0      0.0        0         0\n",
              "17620  20191001WOLT0  20191001   WO      LT  ...    0      0.0        0         0\n",
              "\n",
              "[17621 rows x 31 columns]>"
            ]
          },
          "metadata": {
            "tags": []
          },
          "execution_count": 3
        }
      ]
    },
    {
      "cell_type": "code",
      "metadata": {
        "id": "fLBQhJ46PiG4",
        "colab_type": "code",
        "colab": {
          "base_uri": "https://localhost:8080/",
          "height": 269
        },
        "outputId": "05ad596a-f49a-42bd-c329-946f98219792"
      },
      "source": [
        "game_2019.head"
      ],
      "execution_count": 4,
      "outputs": [
        {
          "output_type": "execute_result",
          "data": {
            "text/plain": [
              "<bound method NDFrame.head of               G_ID   GDAY_DS VISIT_KEY HOME_KEY  HEADER_NO GWEEK STADIUM\n",
              "0    20190323HHOB0  20190323        HH       OB          0     토      잠실\n",
              "1    20190323KTSK0  20190323        KT       SK          0     토      문학\n",
              "2    20190323LGHT0  20190323        LG       HT          0     토      광주\n",
              "3    20190323SSNC0  20190323        SS       NC          0     토      창원\n",
              "4    20190323WOLT0  20190323        WO       LT          0     토      사직\n",
              "..             ...       ...       ...      ...        ...   ...     ...\n",
              "715  20190929WOLT0  20190929        WO       LT          0     일      사직\n",
              "716  20190930LTLG0  20190930        LT       LG          0     월      잠실\n",
              "717  20190930SKHH0  20190930        SK       HH          0     월      대전\n",
              "718  20191001NCOB0  20191001        NC       OB          0     화      잠실\n",
              "719  20191001WOLT0  20191001        WO       LT          0     화      사직\n",
              "\n",
              "[720 rows x 7 columns]>"
            ]
          },
          "metadata": {
            "tags": []
          },
          "execution_count": 4
        }
      ]
    },
    {
      "cell_type": "code",
      "metadata": {
        "id": "gZslgclUtACW",
        "colab_type": "code",
        "colab": {
          "base_uri": "https://localhost:8080/",
          "height": 269
        },
        "outputId": "1adcdd12-83ee-4454-ea1b-cadce1791076"
      },
      "source": [
        "player_2019.head"
      ],
      "execution_count": 5,
      "outputs": [
        {
          "output_type": "execute_result",
          "data": {
            "text/plain": [
              "<bound method NDFrame.head of      GYEAR  PCODE NAME T_ID POSITION  AGE_VA    MONEY\n",
              "0     2019  60100  백창수   HH        외      31   6000만원\n",
              "1     2019  60140  신정락   HH        투      32  12000만원\n",
              "2     2019  60146  이승현   SS        투      28   7000만원\n",
              "3     2019  60181  김지용   LG        투      31  12500만원\n",
              "4     2019  60184  김창혁   HH        포      28   3000만원\n",
              "..     ...    ...  ...  ...      ...     ...      ...\n",
              "651   2019  79705  김회성   HH        내      34   6500만원\n",
              "652   2019  79764  장민재   HH        투      29   9000만원\n",
              "653   2019  79825  여건욱   LG        투      33   5300만원\n",
              "654   2019  79847  김태훈   SK        투      29  18000만원\n",
              "655   2019  99445  권오준   SS        투      39  15000만원\n",
              "\n",
              "[656 rows x 7 columns]>"
            ]
          },
          "metadata": {
            "tags": []
          },
          "execution_count": 5
        }
      ]
    },
    {
      "cell_type": "code",
      "metadata": {
        "id": "7jLVVjgRu4US",
        "colab_type": "code",
        "colab": {}
      },
      "source": [
        "# 개인타자와 게임 데이터를 G_ID를 기준으로 merge\n",
        "# 후에 필요한 칼럼만 뽑음(게임아이디, 선수아이디, 타수, 안타, 구장)\n",
        "P_hitter_game_rowdata_2019 = pd.merge(hitter_2019, game_2019, on=\"G_ID\").loc[:,[\"G_ID\", \"P_ID\", \"AB\", \"HIT\", \"STADIUM\"]]"
      ],
      "execution_count": 6,
      "outputs": []
    },
    {
      "cell_type": "code",
      "metadata": {
        "id": "3jh2HSGzrWBI",
        "colab_type": "code",
        "colab": {
          "base_uri": "https://localhost:8080/",
          "height": 419
        },
        "outputId": "2974aac7-636b-4aca-feab-5737d50f369d"
      },
      "source": [
        "P_hitter_game_rowdata_2019"
      ],
      "execution_count": 8,
      "outputs": [
        {
          "output_type": "execute_result",
          "data": {
            "text/html": [
              "<div>\n",
              "<style scoped>\n",
              "    .dataframe tbody tr th:only-of-type {\n",
              "        vertical-align: middle;\n",
              "    }\n",
              "\n",
              "    .dataframe tbody tr th {\n",
              "        vertical-align: top;\n",
              "    }\n",
              "\n",
              "    .dataframe thead th {\n",
              "        text-align: right;\n",
              "    }\n",
              "</style>\n",
              "<table border=\"1\" class=\"dataframe\">\n",
              "  <thead>\n",
              "    <tr style=\"text-align: right;\">\n",
              "      <th></th>\n",
              "      <th>G_ID</th>\n",
              "      <th>P_ID</th>\n",
              "      <th>AB</th>\n",
              "      <th>HIT</th>\n",
              "      <th>STADIUM</th>\n",
              "    </tr>\n",
              "  </thead>\n",
              "  <tbody>\n",
              "    <tr>\n",
              "      <th>0</th>\n",
              "      <td>20190323HHOB0</td>\n",
              "      <td>61554</td>\n",
              "      <td>2</td>\n",
              "      <td>0</td>\n",
              "      <td>잠실</td>\n",
              "    </tr>\n",
              "    <tr>\n",
              "      <th>1</th>\n",
              "      <td>20190323HHOB0</td>\n",
              "      <td>62244</td>\n",
              "      <td>3</td>\n",
              "      <td>1</td>\n",
              "      <td>잠실</td>\n",
              "    </tr>\n",
              "    <tr>\n",
              "      <th>2</th>\n",
              "      <td>20190323HHOB0</td>\n",
              "      <td>62700</td>\n",
              "      <td>4</td>\n",
              "      <td>0</td>\n",
              "      <td>잠실</td>\n",
              "    </tr>\n",
              "    <tr>\n",
              "      <th>3</th>\n",
              "      <td>20190323HHOB0</td>\n",
              "      <td>62797</td>\n",
              "      <td>2</td>\n",
              "      <td>0</td>\n",
              "      <td>잠실</td>\n",
              "    </tr>\n",
              "    <tr>\n",
              "      <th>4</th>\n",
              "      <td>20190323HHOB0</td>\n",
              "      <td>68730</td>\n",
              "      <td>4</td>\n",
              "      <td>3</td>\n",
              "      <td>잠실</td>\n",
              "    </tr>\n",
              "    <tr>\n",
              "      <th>...</th>\n",
              "      <td>...</td>\n",
              "      <td>...</td>\n",
              "      <td>...</td>\n",
              "      <td>...</td>\n",
              "      <td>...</td>\n",
              "    </tr>\n",
              "    <tr>\n",
              "      <th>17616</th>\n",
              "      <td>20191001WOLT0</td>\n",
              "      <td>77532</td>\n",
              "      <td>5</td>\n",
              "      <td>2</td>\n",
              "      <td>사직</td>\n",
              "    </tr>\n",
              "    <tr>\n",
              "      <th>17617</th>\n",
              "      <td>20191001WOLT0</td>\n",
              "      <td>78168</td>\n",
              "      <td>1</td>\n",
              "      <td>0</td>\n",
              "      <td>사직</td>\n",
              "    </tr>\n",
              "    <tr>\n",
              "      <th>17618</th>\n",
              "      <td>20191001WOLT0</td>\n",
              "      <td>78513</td>\n",
              "      <td>3</td>\n",
              "      <td>0</td>\n",
              "      <td>사직</td>\n",
              "    </tr>\n",
              "    <tr>\n",
              "      <th>17619</th>\n",
              "      <td>20191001WOLT0</td>\n",
              "      <td>79300</td>\n",
              "      <td>0</td>\n",
              "      <td>0</td>\n",
              "      <td>사직</td>\n",
              "    </tr>\n",
              "    <tr>\n",
              "      <th>17620</th>\n",
              "      <td>20191001WOLT0</td>\n",
              "      <td>79334</td>\n",
              "      <td>0</td>\n",
              "      <td>0</td>\n",
              "      <td>사직</td>\n",
              "    </tr>\n",
              "  </tbody>\n",
              "</table>\n",
              "<p>17621 rows × 5 columns</p>\n",
              "</div>"
            ],
            "text/plain": [
              "                G_ID   P_ID  AB  HIT STADIUM\n",
              "0      20190323HHOB0  61554   2    0      잠실\n",
              "1      20190323HHOB0  62244   3    1      잠실\n",
              "2      20190323HHOB0  62700   4    0      잠실\n",
              "3      20190323HHOB0  62797   2    0      잠실\n",
              "4      20190323HHOB0  68730   4    3      잠실\n",
              "...              ...    ...  ..  ...     ...\n",
              "17616  20191001WOLT0  77532   5    2      사직\n",
              "17617  20191001WOLT0  78168   1    0      사직\n",
              "17618  20191001WOLT0  78513   3    0      사직\n",
              "17619  20191001WOLT0  79300   0    0      사직\n",
              "17620  20191001WOLT0  79334   0    0      사직\n",
              "\n",
              "[17621 rows x 5 columns]"
            ]
          },
          "metadata": {
            "tags": []
          },
          "execution_count": 8
        }
      ]
    },
    {
      "cell_type": "code",
      "metadata": {
        "id": "J1iN-qy_SzAa",
        "colab_type": "code",
        "colab": {
          "base_uri": "https://localhost:8080/",
          "height": 35
        },
        "outputId": "dd6e0f69-549d-4071-e732-d1b915022481"
      },
      "source": [
        "# 결측값 확인\n",
        "P_hitter_game_rowdata_2019.STADIUM.isnull().sum()"
      ],
      "execution_count": 9,
      "outputs": [
        {
          "output_type": "execute_result",
          "data": {
            "text/plain": [
              "0"
            ]
          },
          "metadata": {
            "tags": []
          },
          "execution_count": 9
        }
      ]
    },
    {
      "cell_type": "code",
      "metadata": {
        "id": "WGesuZ8nGkTB",
        "colab_type": "code",
        "colab": {
          "base_uri": "https://localhost:8080/",
          "height": 269
        },
        "outputId": "ace3c64b-5083-460c-bb4e-fa467c35185b"
      },
      "source": [
        "# 2019 사용 구장\n",
        "P_hitter_game_rowdata_2019.loc[:,['P_ID','STADIUM','HIT','AB']].groupby([P_hitter_game_rowdata_2019['STADIUM']]).size()"
      ],
      "execution_count": 118,
      "outputs": [
        {
          "output_type": "execute_result",
          "data": {
            "text/plain": [
              "STADIUM\n",
              "고척    1678\n",
              "광주    1778\n",
              "대구    1571\n",
              "대전    1571\n",
              "문학    1725\n",
              "사직    1678\n",
              "수원    1810\n",
              "울산     150\n",
              "잠실    3534\n",
              "창원    1796\n",
              "청주     183\n",
              "포항     147\n",
              "dtype: int64"
            ]
          },
          "metadata": {
            "tags": []
          },
          "execution_count": 118
        }
      ]
    },
    {
      "cell_type": "code",
      "metadata": {
        "id": "qOVIAHhP5-mb",
        "colab_type": "code",
        "colab": {}
      },
      "source": [
        "# 타자 구장별 안타, 타수\n",
        "grouped = P_hitter_game_rowdata_2019.loc[:,['HIT','AB']].groupby([P_hitter_game_rowdata_2019['P_ID'], P_hitter_game_rowdata_2019['STADIUM']])"
      ],
      "execution_count": 127,
      "outputs": []
    },
    {
      "cell_type": "code",
      "metadata": {
        "id": "HCszO2-hGtj5",
        "colab_type": "code",
        "colab": {
          "base_uri": "https://localhost:8080/",
          "height": 35
        },
        "outputId": "4ff3c736-cd58-4fa7-b981-83ea37c7d11e"
      },
      "source": [
        "grouped_stadium.size().index[0]"
      ],
      "execution_count": 117,
      "outputs": [
        {
          "output_type": "execute_result",
          "data": {
            "application/vnd.google.colaboratory.intrinsic+json": {
              "type": "string"
            },
            "text/plain": [
              "'고척'"
            ]
          },
          "metadata": {
            "tags": []
          },
          "execution_count": 117
        }
      ]
    },
    {
      "cell_type": "code",
      "metadata": {
        "id": "CVkKPHfXIl3k",
        "colab_type": "code",
        "colab": {
          "base_uri": "https://localhost:8080/",
          "height": 413
        },
        "outputId": "a97d496b-b02f-4569-88f8-42a8a55fe0ec"
      },
      "source": [
        "grouped.sum().index"
      ],
      "execution_count": 145,
      "outputs": [
        {
          "output_type": "execute_result",
          "data": {
            "text/plain": [
              "MultiIndex([(60100, '고척'),\n",
              "            (60100, '대전'),\n",
              "            (60100, '문학'),\n",
              "            (60100, '잠실'),\n",
              "            (60100, '창원'),\n",
              "            (60100, '청주'),\n",
              "            (60140, '창원'),\n",
              "            (60184, '대전'),\n",
              "            (60184, '창원'),\n",
              "            (60288, '고척'),\n",
              "            ...\n",
              "            (79705, '문학'),\n",
              "            (79705, '사직'),\n",
              "            (79705, '수원'),\n",
              "            (79705, '잠실'),\n",
              "            (79705, '창원'),\n",
              "            (79705, '청주'),\n",
              "            (79825, '잠실'),\n",
              "            (79847, '고척'),\n",
              "            (99445, '수원'),\n",
              "            (99445, '잠실')],\n",
              "           names=['P_ID', 'STADIUM'], length=2243)"
            ]
          },
          "metadata": {
            "tags": []
          },
          "execution_count": 145
        }
      ]
    },
    {
      "cell_type": "code",
      "metadata": {
        "id": "ceWlNi3uI74d",
        "colab_type": "code",
        "colab": {}
      },
      "source": [
        "P_AVG_stadium_2019 = pd.DataFrame(index=range(0,len(grouped)), columns=['P_ID', 'STADIUM','AVG'])"
      ],
      "execution_count": 142,
      "outputs": []
    },
    {
      "cell_type": "code",
      "metadata": {
        "id": "O62hwGCuJaQd",
        "colab_type": "code",
        "colab": {
          "base_uri": "https://localhost:8080/",
          "height": 328
        },
        "outputId": "cd79c022-1c22-4109-994f-9360a94b9c73"
      },
      "source": [
        "# 나지완(78629)의 구장별 성적\n",
        "P_AVG_stadium_2019[P_AVG_stadium_2019[\"P_ID\"].isin([78629])]"
      ],
      "execution_count": 156,
      "outputs": [
        {
          "output_type": "execute_result",
          "data": {
            "text/html": [
              "<div>\n",
              "<style scoped>\n",
              "    .dataframe tbody tr th:only-of-type {\n",
              "        vertical-align: middle;\n",
              "    }\n",
              "\n",
              "    .dataframe tbody tr th {\n",
              "        vertical-align: top;\n",
              "    }\n",
              "\n",
              "    .dataframe thead th {\n",
              "        text-align: right;\n",
              "    }\n",
              "</style>\n",
              "<table border=\"1\" class=\"dataframe\">\n",
              "  <thead>\n",
              "    <tr style=\"text-align: right;\">\n",
              "      <th></th>\n",
              "      <th>P_ID</th>\n",
              "      <th>STADIUM</th>\n",
              "      <th>AVG</th>\n",
              "    </tr>\n",
              "  </thead>\n",
              "  <tbody>\n",
              "    <tr>\n",
              "      <th>2013</th>\n",
              "      <td>78629</td>\n",
              "      <td>고척</td>\n",
              "      <td>0.200000</td>\n",
              "    </tr>\n",
              "    <tr>\n",
              "      <th>2014</th>\n",
              "      <td>78629</td>\n",
              "      <td>광주</td>\n",
              "      <td>0.212121</td>\n",
              "    </tr>\n",
              "    <tr>\n",
              "      <th>2015</th>\n",
              "      <td>78629</td>\n",
              "      <td>대구</td>\n",
              "      <td>0.000000</td>\n",
              "    </tr>\n",
              "    <tr>\n",
              "      <th>2016</th>\n",
              "      <td>78629</td>\n",
              "      <td>대전</td>\n",
              "      <td>0.000000</td>\n",
              "    </tr>\n",
              "    <tr>\n",
              "      <th>2017</th>\n",
              "      <td>78629</td>\n",
              "      <td>문학</td>\n",
              "      <td>0.000000</td>\n",
              "    </tr>\n",
              "    <tr>\n",
              "      <th>2018</th>\n",
              "      <td>78629</td>\n",
              "      <td>사직</td>\n",
              "      <td>0.666667</td>\n",
              "    </tr>\n",
              "    <tr>\n",
              "      <th>2019</th>\n",
              "      <td>78629</td>\n",
              "      <td>수원</td>\n",
              "      <td>0.076923</td>\n",
              "    </tr>\n",
              "    <tr>\n",
              "      <th>2020</th>\n",
              "      <td>78629</td>\n",
              "      <td>잠실</td>\n",
              "      <td>0.250000</td>\n",
              "    </tr>\n",
              "    <tr>\n",
              "      <th>2021</th>\n",
              "      <td>78629</td>\n",
              "      <td>창원</td>\n",
              "      <td>0.400000</td>\n",
              "    </tr>\n",
              "  </tbody>\n",
              "</table>\n",
              "</div>"
            ],
            "text/plain": [
              "       P_ID STADIUM       AVG\n",
              "2013  78629      고척  0.200000\n",
              "2014  78629      광주  0.212121\n",
              "2015  78629      대구  0.000000\n",
              "2016  78629      대전  0.000000\n",
              "2017  78629      문학  0.000000\n",
              "2018  78629      사직  0.666667\n",
              "2019  78629      수원  0.076923\n",
              "2020  78629      잠실  0.250000\n",
              "2021  78629      창원  0.400000"
            ]
          },
          "metadata": {
            "tags": []
          },
          "execution_count": 156
        }
      ]
    },
    {
      "cell_type": "code",
      "metadata": {
        "id": "6_Y9G3XeIQF-",
        "colab_type": "code",
        "colab": {
          "base_uri": "https://localhost:8080/",
          "height": 323
        },
        "outputId": "efa74476-f772-4473-b8f3-d832ecc28e15"
      },
      "source": [
        "# 구장별 타율 계산\n",
        "for i in range(len(grouped)):\n",
        "  P_AVG_stadium_2019.P_ID[i] = grouped.sum().index[i][0]\n",
        "  P_AVG_stadium_2019.STADIUM[i] = grouped.sum().index[i][1]\n",
        "  P_AVG_stadium_2019.AVG[i] = grouped.sum().HIT[i] / grouped.sum().AB[i]"
      ],
      "execution_count": 151,
      "outputs": [
        {
          "output_type": "stream",
          "text": [
            "/usr/local/lib/python3.6/dist-packages/ipykernel_launcher.py:2: SettingWithCopyWarning: \n",
            "A value is trying to be set on a copy of a slice from a DataFrame\n",
            "\n",
            "See the caveats in the documentation: https://pandas.pydata.org/pandas-docs/stable/user_guide/indexing.html#returning-a-view-versus-a-copy\n",
            "  \n",
            "/usr/local/lib/python3.6/dist-packages/ipykernel_launcher.py:3: SettingWithCopyWarning: \n",
            "A value is trying to be set on a copy of a slice from a DataFrame\n",
            "\n",
            "See the caveats in the documentation: https://pandas.pydata.org/pandas-docs/stable/user_guide/indexing.html#returning-a-view-versus-a-copy\n",
            "  This is separate from the ipykernel package so we can avoid doing imports until\n",
            "/usr/local/lib/python3.6/dist-packages/ipykernel_launcher.py:4: SettingWithCopyWarning: \n",
            "A value is trying to be set on a copy of a slice from a DataFrame\n",
            "\n",
            "See the caveats in the documentation: https://pandas.pydata.org/pandas-docs/stable/user_guide/indexing.html#returning-a-view-versus-a-copy\n",
            "  after removing the cwd from sys.path.\n",
            "/usr/local/lib/python3.6/dist-packages/ipykernel_launcher.py:4: RuntimeWarning: invalid value encountered in long_scalars\n",
            "  after removing the cwd from sys.path.\n"
          ],
          "name": "stderr"
        }
      ]
    },
    {
      "cell_type": "code",
      "metadata": {
        "id": "y3f84iNcHhSD",
        "colab_type": "code",
        "colab": {
          "base_uri": "https://localhost:8080/",
          "height": 450
        },
        "outputId": "5d63c923-50a0-4b03-f06e-cf23abe7761b"
      },
      "source": [
        "grouped.sum()"
      ],
      "execution_count": 132,
      "outputs": [
        {
          "output_type": "execute_result",
          "data": {
            "text/html": [
              "<div>\n",
              "<style scoped>\n",
              "    .dataframe tbody tr th:only-of-type {\n",
              "        vertical-align: middle;\n",
              "    }\n",
              "\n",
              "    .dataframe tbody tr th {\n",
              "        vertical-align: top;\n",
              "    }\n",
              "\n",
              "    .dataframe thead th {\n",
              "        text-align: right;\n",
              "    }\n",
              "</style>\n",
              "<table border=\"1\" class=\"dataframe\">\n",
              "  <thead>\n",
              "    <tr style=\"text-align: right;\">\n",
              "      <th></th>\n",
              "      <th></th>\n",
              "      <th>HIT</th>\n",
              "      <th>AB</th>\n",
              "    </tr>\n",
              "    <tr>\n",
              "      <th>P_ID</th>\n",
              "      <th>STADIUM</th>\n",
              "      <th></th>\n",
              "      <th></th>\n",
              "    </tr>\n",
              "  </thead>\n",
              "  <tbody>\n",
              "    <tr>\n",
              "      <th rowspan=\"5\" valign=\"top\">60100</th>\n",
              "      <th>고척</th>\n",
              "      <td>0</td>\n",
              "      <td>4</td>\n",
              "    </tr>\n",
              "    <tr>\n",
              "      <th>대전</th>\n",
              "      <td>6</td>\n",
              "      <td>22</td>\n",
              "    </tr>\n",
              "    <tr>\n",
              "      <th>문학</th>\n",
              "      <td>0</td>\n",
              "      <td>2</td>\n",
              "    </tr>\n",
              "    <tr>\n",
              "      <th>잠실</th>\n",
              "      <td>2</td>\n",
              "      <td>11</td>\n",
              "    </tr>\n",
              "    <tr>\n",
              "      <th>창원</th>\n",
              "      <td>0</td>\n",
              "      <td>3</td>\n",
              "    </tr>\n",
              "    <tr>\n",
              "      <th>...</th>\n",
              "      <th>...</th>\n",
              "      <td>...</td>\n",
              "      <td>...</td>\n",
              "    </tr>\n",
              "    <tr>\n",
              "      <th>79705</th>\n",
              "      <th>청주</th>\n",
              "      <td>1</td>\n",
              "      <td>2</td>\n",
              "    </tr>\n",
              "    <tr>\n",
              "      <th>79825</th>\n",
              "      <th>잠실</th>\n",
              "      <td>0</td>\n",
              "      <td>0</td>\n",
              "    </tr>\n",
              "    <tr>\n",
              "      <th>79847</th>\n",
              "      <th>고척</th>\n",
              "      <td>0</td>\n",
              "      <td>0</td>\n",
              "    </tr>\n",
              "    <tr>\n",
              "      <th rowspan=\"2\" valign=\"top\">99445</th>\n",
              "      <th>수원</th>\n",
              "      <td>0</td>\n",
              "      <td>0</td>\n",
              "    </tr>\n",
              "    <tr>\n",
              "      <th>잠실</th>\n",
              "      <td>0</td>\n",
              "      <td>0</td>\n",
              "    </tr>\n",
              "  </tbody>\n",
              "</table>\n",
              "<p>2243 rows × 2 columns</p>\n",
              "</div>"
            ],
            "text/plain": [
              "               HIT  AB\n",
              "P_ID  STADIUM         \n",
              "60100 고척         0   4\n",
              "      대전         6  22\n",
              "      문학         0   2\n",
              "      잠실         2  11\n",
              "      창원         0   3\n",
              "...            ...  ..\n",
              "79705 청주         1   2\n",
              "79825 잠실         0   0\n",
              "79847 고척         0   0\n",
              "99445 수원         0   0\n",
              "      잠실         0   0\n",
              "\n",
              "[2243 rows x 2 columns]"
            ]
          },
          "metadata": {
            "tags": []
          },
          "execution_count": 132
        }
      ]
    },
    {
      "cell_type": "code",
      "metadata": {
        "id": "je2hzM09RieP",
        "colab_type": "code",
        "colab": {}
      },
      "source": [
        "player_avg_67025 = P_hitter_game_rowdata_2019[P_hitter_game_rowdata_2019['P_ID'].isin([67025])]"
      ],
      "execution_count": null,
      "outputs": []
    },
    {
      "cell_type": "code",
      "metadata": {
        "id": "WlLFYqe7gWzs",
        "colab_type": "code",
        "colab": {}
      },
      "source": [
        "player_avg_67025[player_avg_67025['STADIUM'].isin([\"문학\"])]"
      ],
      "execution_count": null,
      "outputs": []
    },
    {
      "cell_type": "code",
      "metadata": {
        "id": "zm4SZQeoSqcZ",
        "colab_type": "code",
        "colab": {}
      },
      "source": [
        "sum(player_avg_67025[player_avg_67025['STADIUM'].isin([\"문학\"])].HIT) / sum(player_avg_67025[player_avg_67025['STADIUM'].isin([\"문학\"])].AB)"
      ],
      "execution_count": null,
      "outputs": []
    },
    {
      "cell_type": "code",
      "metadata": {
        "id": "R4dIyEsDebB1",
        "colab_type": "code",
        "colab": {}
      },
      "source": [
        ""
      ],
      "execution_count": null,
      "outputs": []
    }
  ]
}