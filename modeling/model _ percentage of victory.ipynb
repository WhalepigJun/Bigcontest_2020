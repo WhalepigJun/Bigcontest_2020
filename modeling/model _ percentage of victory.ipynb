{
 "cells": [
  {
   "cell_type": "code",
   "execution_count": 42,
   "metadata": {
    "id": "Qlgl9rQVY0CV"
   },
   "outputs": [],
   "source": [
    "import numpy as np\n",
    "import pandas as pd\n",
    "import matplotlib as plt\n",
    "from sklearn.preprocessing import StandardScaler\n",
    "from sklearn import ensemble\n",
    "from sklearn.model_selection import RandomizedSearchCV\n",
    "from sklearn.ensemble import RandomForestRegressor\n",
    "from sklearn.linear_model import Lasso\n",
    "from sklearn.linear_model import Ridge\n",
    "import xgboost\n",
    "from xgboost import XGBRegressor"
   ]
  },
  {
   "cell_type": "code",
   "execution_count": 2,
   "metadata": {
    "id": "g_4EXRqiY0Ce",
    "outputId": "5338f9da-ae38-4a59-8561-806023a45377"
   },
   "outputs": [],
   "source": [
    "#경기\n",
    "game_16 = pd.read_csv('2020빅콘테스트_스포츠투아이_제공데이터_경기_2016.csv', encoding=\"CP949\")\n",
    "game_17 = pd.read_csv('2020빅콘테스트_스포츠투아이_제공데이터_경기_2017.csv', encoding=\"CP949\")\n",
    "game_18 = pd.read_csv('2020빅콘테스트_스포츠투아이_제공데이터_경기_2018.csv', encoding=\"CP949\")\n",
    "game_19 = pd.read_csv('2020빅콘테스트_스포츠투아이_제공데이터_경기_2019.csv', encoding=\"CP949\")\n",
    "game_20 = pd.read_csv('2020빅콘테스트_스포츠투아이_제공데이터_경기_2020.csv', encoding=\"CP949\")\n",
    "\n",
    "# 팀타자\n",
    "team_hitter_16 = pd.read_csv('2020빅콘테스트_스포츠투아이_제공데이터_팀타자_2016.csv')\n",
    "team_hitter_17 = pd.read_csv('2020빅콘테스트_스포츠투아이_제공데이터_팀타자_2017.csv')\n",
    "team_hitter_18 = pd.read_csv('2020빅콘테스트_스포츠투아이_제공데이터_팀타자_2018.csv')\n",
    "team_hitter_19 = pd.read_csv('2020빅콘테스트_스포츠투아이_제공데이터_팀타자_2019.csv')\n",
    "team_hitter_20 = pd.read_csv('2020빅콘테스트_스포츠투아이_제공데이터_팀타자_2020.csv')\n",
    "\n",
    "# 팀투수\n",
    "team_pitcher_16 = pd.read_csv('2020빅콘테스트_스포츠투아이_제공데이터_팀투수_2016.csv')\n",
    "team_pitcher_17 = pd.read_csv('2020빅콘테스트_스포츠투아이_제공데이터_팀투수_2017.csv')\n",
    "team_pitcher_18 = pd.read_csv('2020빅콘테스트_스포츠투아이_제공데이터_팀투수_2018.csv')\n",
    "team_pitcher_19 = pd.read_csv('2020빅콘테스트_스포츠투아이_제공데이터_팀투수_2019.csv')\n",
    "team_pitcher_20 = pd.read_csv('2020빅콘테스트_스포츠투아이_제공데이터_팀투수_2020.csv')"
   ]
  },
  {
   "cell_type": "markdown",
   "metadata": {},
   "source": [
    "## preprocessing : train data"
   ]
  },
  {
   "cell_type": "code",
   "execution_count": 3,
   "metadata": {
    "id": "nucxFY4xY0Cj"
   },
   "outputs": [],
   "source": [
    "#선수 일정 별 몇 번째 경기인지 표시하는 함수\n",
    "def game_from_date_to_game(data_set) :\n",
    "    cnt = np.zeros((len(data_set),10), dtype='i8')\n",
    "    \n",
    "    team=[\"HH\",\"HT\",\"KT\",\"LG\",\"LT\",\"NC\",\"OB\",\"SK\",\"SS\",\"WO\"]\n",
    "    for i in range(len(data_set)):\n",
    "        col=0\n",
    "        for j in team:\n",
    "            if data_set.values[i,2]==j or data_set.values[i,3]==j:\n",
    "                cnt[i,col]=np.count_nonzero(cnt[:i,col])+1\n",
    "            col+=1\n",
    "\n",
    "    return_data_set = pd.concat([data_set, pd.DataFrame(cnt.reshape(len(cnt),10),columns=team)],axis=1)\n",
    "   \n",
    "    return return_data_set.groupby('G_ID').sum().iloc[:,1:]"
   ]
  },
  {
   "cell_type": "code",
   "execution_count": 4,
   "metadata": {
    "id": "6_JNd3W5Y0Cm"
   },
   "outputs": [],
   "source": [
    "#일별로 팀의 경기수만 표시\n",
    "date_game_16=game_from_date_to_game(game_16)\n",
    "date_game_17=game_from_date_to_game(game_17)\n",
    "date_game_18=game_from_date_to_game(game_18)\n",
    "date_game_19=game_from_date_to_game(game_19)\n",
    "date_game_20=game_from_date_to_game(game_20)"
   ]
  },
  {
   "cell_type": "code",
   "execution_count": 5,
   "metadata": {
    "id": "wuurfdw7Y0Cr"
   },
   "outputs": [],
   "source": [
    "#경기별 개인 기록에 몇번째 경기인지 나타내는 변수를 추가하는 함수\n",
    "def merge_date_game(date_game, data_set):\n",
    "    HH_date_game=date_game.loc[date_game.HH>0,:].reset_index().loc[:,['G_ID','HH']]\n",
    "    result=pd.merge(data_set.loc[data_set.T_ID=='HH',:], HH_date_game, on='G_ID')\n",
    "    result.rename(columns={'HH': 'game'}, inplace=True)\n",
    "    \n",
    "    team=[\"HT\",\"KT\",\"LG\",\"LT\",\"NC\",\"OB\",\"SK\",\"SS\",\"WO\"]\n",
    "    for i in team:\n",
    "        team_date_game=date_game.loc[date_game.loc[:,i]>0,:].reset_index().loc[:,['G_ID', i]]\n",
    "        team_data=pd.merge(data_set.loc[data_set.T_ID==i,:], team_date_game, on='G_ID')\n",
    "        team_data.rename(columns={i: 'game'}, inplace=True)\n",
    "        result=pd.concat([result, team_data])\n",
    "        \n",
    "    return result"
   ]
  },
  {
   "cell_type": "code",
   "execution_count": 6,
   "metadata": {
    "id": "n_fuslINY0Cu"
   },
   "outputs": [],
   "source": [
    "#위 함수로 변수 추가\n",
    "hitter_game_16=merge_date_game(date_game_16, team_hitter_16)\n",
    "hitter_game_17=merge_date_game(date_game_17, team_hitter_17)\n",
    "hitter_game_18=merge_date_game(date_game_18, team_hitter_18)\n",
    "hitter_game_19=merge_date_game(date_game_19, team_hitter_19)\n",
    "hitter_game_20=merge_date_game(date_game_20, team_hitter_20)\n",
    "\n",
    "pitcher_game_16=merge_date_game(date_game_16, team_pitcher_16)\n",
    "pitcher_game_17=merge_date_game(date_game_17, team_pitcher_17)\n",
    "pitcher_game_18=merge_date_game(date_game_18, team_pitcher_18)\n",
    "pitcher_game_19=merge_date_game(date_game_19, team_pitcher_19)\n",
    "pitcher_game_20=merge_date_game(date_game_20, team_pitcher_20)"
   ]
  },
  {
   "cell_type": "code",
   "execution_count": 7,
   "metadata": {
    "id": "f6VaWR7jY0Cz"
   },
   "outputs": [],
   "source": [
    "# 팀 조합 90가지에 대한 시즌별 115경기 이후 안타율, 상대팀 안타율, 방어율, 상대팀 방어율 변수 생성\n",
    "\n",
    "def transform_data(hitter_game, pitcher_game):\n",
    "    win_p = pitcher_game.loc[pitcher_game.game>115,['T_ID','VS_T_ID', 'WLS']]\n",
    "    game_count = win_p.groupby(['T_ID', 'VS_T_ID']).count().WLS\n",
    "    for i in range(len(win_p)):\n",
    "        if (win_p.iloc[i,2]=='W') : win_p.iloc[i,2]=1 \n",
    "        else : win_p.iloc[i,2]=0\n",
    "    win_p = win_p.groupby(['T_ID', 'VS_T_ID']).sum().reset_index()\n",
    "    win_p['game_count'] = game_count.values\n",
    "    win_p['wp'] = win_p.WLS / win_p.game_count\n",
    "    \n",
    "    avg = hitter_game_19.loc[hitter_game_19.game>115,['T_ID', 'HIT', 'AB']]\n",
    "    avg = avg.groupby('T_ID').sum().reset_index()\n",
    "    avg['AVG'] = avg.HIT / avg.AB\n",
    "    \n",
    "    era = pitcher_game.loc[pitcher_game.game>115,['T_ID', 'INN2', 'ER']]\n",
    "    era = era.groupby('T_ID').sum().reset_index()\n",
    "    era['ERA'] = (era.ER * 3 * 9) / era.INN2\n",
    "    \n",
    "    win_p = pd.merge(win_p.loc[:, ['T_ID', 'VS_T_ID', 'game_count', 'wp']], avg.loc[:, ['T_ID', 'AVG']], on='T_ID')\n",
    "    win_p = pd.merge(win_p, era.loc[:, ['T_ID', 'ERA']], on='T_ID')\n",
    "    win_p = pd.merge(win_p, avg.loc[:, ['T_ID', 'AVG']], left_on='VS_T_ID', right_on='T_ID')\n",
    "    win_p = pd.merge(win_p, era.loc[:, ['T_ID', 'ERA']], left_on='VS_T_ID', right_on='T_ID')\n",
    "    win_p = win_p.drop(['T_ID_y', 'T_ID'], axis=1)\n",
    "    win_p.columns = ['T_ID', 'VS_T_ID', 'game_count', 'WP', 'AVG', 'ERA', 'VS_AVG', 'VS_ERA']\n",
    "    \n",
    "    return win_p"
   ]
  },
  {
   "cell_type": "code",
   "execution_count": 78,
   "metadata": {
    "id": "6NqCB3HmY0C4"
   },
   "outputs": [],
   "source": [
    "transform_data_16 = transform_data(hitter_game_16, pitcher_game_16)\n",
    "transform_data_17 = transform_data(hitter_game_17, pitcher_game_17)\n",
    "transform_data_18 = transform_data(hitter_game_18, pitcher_game_18)\n",
    "transform_data_19 = transform_data(hitter_game_19, pitcher_game_19)\n",
    "\n",
    "final=pd.concat([transform_data_16, transform_data_17, transform_data_18, transform_data_19])"
   ]
  },
  {
   "cell_type": "code",
   "execution_count": 80,
   "metadata": {
    "id": "blErLCZHY0C-",
    "outputId": "6a2d4155-f8ad-480f-ef51-72e108276021"
   },
   "outputs": [
    {
     "name": "stderr",
     "output_type": "stream",
     "text": [
      "<ipython-input-80-8878d44c7dcc>:2: SettingWithCopyWarning: \n",
      "A value is trying to be set on a copy of a slice from a DataFrame\n",
      "\n",
      "See the caveats in the documentation: https://pandas.pydata.org/pandas-docs/stable/user_guide/indexing.html#returning-a-view-versus-a-copy\n",
      "  data.T_ID[start_length : end_length] = year + data.T_ID[start_length : end_length].values\n",
      "<ipython-input-80-8878d44c7dcc>:3: SettingWithCopyWarning: \n",
      "A value is trying to be set on a copy of a slice from a DataFrame\n",
      "\n",
      "See the caveats in the documentation: https://pandas.pydata.org/pandas-docs/stable/user_guide/indexing.html#returning-a-view-versus-a-copy\n",
      "  data.VS_T_ID[start_length : end_length] = year + data.VS_T_ID[start_length : end_length].values\n"
     ]
    }
   ],
   "source": [
    "# 각 시즌의 값을 나타내기 위한 연도 라벨링\n",
    "\n",
    "def labeling_year(data, start_length, end_length, year):\n",
    "    data.T_ID[start_length : end_length] = year + data.T_ID[start_length : end_length].values\n",
    "    data.VS_T_ID[start_length : end_length] = year + data.VS_T_ID[start_length : end_length].values\n",
    "\n",
    "labeling_year(final, 0, len(transform_data_16), '16')\n",
    "labeling_year(final, len(transform_data_16), len(transform_data_16)+len(transform_data_17), '17')\n",
    "labeling_year(final, len(transform_data_16)+len(transform_data_17), \n",
    "              len(transform_data_16)+len(transform_data_17)+len(transform_data_18), '18')\n",
    "labeling_year(final, len(transform_data_16)+len(transform_data_17)+len(transform_data_18), \n",
    "              len(transform_data_16)+len(transform_data_17)+len(transform_data_18)+len(transform_data_19), '19')"
   ]
  },
  {
   "cell_type": "code",
   "execution_count": 27,
   "metadata": {
    "id": "d4eno93uY0DD"
   },
   "outputs": [],
   "source": [
    "train_x = final.iloc[:, 4:]\n",
    "train_y = final.iloc[:, 3]"
   ]
  },
  {
   "cell_type": "markdown",
   "metadata": {},
   "source": [
    "## preprocessing : test data"
   ]
  },
  {
   "cell_type": "code",
   "execution_count": 146,
   "metadata": {
    "id": "LaUOstWCY0Di"
   },
   "outputs": [],
   "source": [
    "#아래부터 test data로 최종 예측 \n",
    "left_game = pd.read_csv('test set.csv')\n",
    "pred_avg = pd.read_csv('hitter_final_predict.csv')\n",
    "pred_era = pd.read_csv('pitcher_final_predict.csv')\n",
    "\n",
    "pred_avg_era = pd.merge(pred_avg, pred_era, on='T_ID')"
   ]
  },
  {
   "cell_type": "code",
   "execution_count": 147,
   "metadata": {
    "id": "6_yujHMBY0Dp"
   },
   "outputs": [],
   "source": [
    "#예측 avg, era를 남은 경기데이터에 merge하여 x 생성\n",
    "test = left_game.loc[:,['T_ID', 'VS_T_ID','TB_SC']].groupby(['T_ID', 'VS_T_ID']).count().reset_index()\n",
    "\n",
    "test = pd.merge(pd.merge(test, pred_avg, on='T_ID'), pred_era, on='T_ID')\n",
    "test = pd.merge(pd.merge(test, pred_avg, left_on='VS_T_ID', right_on='T_ID'), pred_era, left_on='VS_T_ID', right_on='T_ID')\n",
    "test = test.drop(['T_ID_y', 'T_ID'], axis=1)\n",
    "test.columns = ['T_ID', 'VS_T_ID', 'game_count', 'AVG', 'ERA', 'VS_AVG', 'VS_ERA']\n",
    "\n",
    "test_x = test.iloc[: , 3:]"
   ]
  },
  {
   "cell_type": "markdown",
   "metadata": {},
   "source": [
    "## independent varaible scaling"
   ]
  },
  {
   "cell_type": "code",
   "execution_count": 31,
   "metadata": {},
   "outputs": [],
   "source": [
    "scaler = StandardScaler()\n",
    "train_x_scaled = scaler.fit_transform(train_x)\n",
    "test_x_scaled = scaler.transform(test_x)"
   ]
  },
  {
   "cell_type": "markdown",
   "metadata": {},
   "source": [
    "## choose best model [ridge, lasso, randomforest, xgboost]"
   ]
  },
  {
   "cell_type": "code",
   "execution_count": 129,
   "metadata": {},
   "outputs": [
    {
     "data": {
      "text/plain": [
       "{'alpha': 0.16000000000000006}"
      ]
     },
     "execution_count": 129,
     "metadata": {},
     "output_type": "execute_result"
    }
   ],
   "source": [
    "param_ridge = {'alpha':np.arange(0.1,0.9,0.001)}\n",
    "ridge = Ridge(normalize=True)\n",
    "ridge_cv = RandomizedSearchCV(ridge, param_ridge, n_iter=20, n_jobs=-1, cv=5, random_state=79)\n",
    "ridge_cv.fit(train_x_scaled, train_y)\n",
    "ridge_cv.best_params_"
   ]
  },
  {
   "cell_type": "code",
   "execution_count": 130,
   "metadata": {},
   "outputs": [
    {
     "data": {
      "text/plain": [
       "0.07693708280208307"
      ]
     },
     "execution_count": 130,
     "metadata": {},
     "output_type": "execute_result"
    }
   ],
   "source": [
    "ridge_best = Ridge(alpha=ridge_cv.best_params_['alpha'], normalize=True)\n",
    "ridge_best.fit(train_x_scaled, train_y)\n",
    "pred_ridge = ridge_best.predict(train_x_scaled)\n",
    "# mse_ridge\n",
    "np.mean((pred_ridge-train_y)**2)"
   ]
  },
  {
   "cell_type": "code",
   "execution_count": 131,
   "metadata": {},
   "outputs": [
    {
     "data": {
      "text/plain": [
       "{'alpha': 0.7450000000000006}"
      ]
     },
     "execution_count": 131,
     "metadata": {},
     "output_type": "execute_result"
    }
   ],
   "source": [
    "param_lasso = {'alpha':np.arange(0.1,0.9,0.001)}\n",
    "lasso = Lasso(normalize=True)\n",
    "lasso_cv = RandomizedSearchCV(lasso, param_lasso, n_iter=20, n_jobs=-1, cv=5, random_state=79)\n",
    "lasso_cv.fit(train_x_scaled, train_y)\n",
    "lasso_cv.best_params_"
   ]
  },
  {
   "cell_type": "code",
   "execution_count": 132,
   "metadata": {},
   "outputs": [
    {
     "data": {
      "text/plain": [
       "0.08317572278002783"
      ]
     },
     "execution_count": 132,
     "metadata": {},
     "output_type": "execute_result"
    }
   ],
   "source": [
    "lasso_best = Lasso(alpha=lasso_cv.best_params_['alpha'], normalize=True)\n",
    "lasso_best.fit(train_x_scaled, train_y)\n",
    "pred_lasso = lasso_best.predict(train_x_scaled)\n",
    "# mse_lasso\n",
    "np.mean((pred_lasso-train_y)**2)"
   ]
  },
  {
   "cell_type": "code",
   "execution_count": 133,
   "metadata": {
    "id": "JnoSEWDUY0DJ",
    "outputId": "a1cea71a-b57d-4e69-f162-6450d484373f"
   },
   "outputs": [
    {
     "data": {
      "text/plain": [
       "{'n_estimators': 47, 'max_features': 'sqrt', 'max_depth': 5}"
      ]
     },
     "execution_count": 133,
     "metadata": {},
     "output_type": "execute_result"
    }
   ],
   "source": [
    "param_grid = {'n_estimators':list(range(1,200)),\n",
    "             'max_depth':list(range(1,100)),\n",
    "             'max_features':['auto','sqrt','log2']}\n",
    "randomized_cv = RandomizedSearchCV(RandomForestRegressor(), param_grid, n_iter=20, n_jobs=-1, cv=5, random_state=79)\n",
    "\n",
    "rf_cv = randomized_cv.fit(train_x_scaled, train_y)\n",
    "rf_cv.best_params_"
   ]
  },
  {
   "cell_type": "code",
   "execution_count": 134,
   "metadata": {},
   "outputs": [
    {
     "data": {
      "text/plain": [
       "0.05699357639101262"
      ]
     },
     "execution_count": 134,
     "metadata": {},
     "output_type": "execute_result"
    }
   ],
   "source": [
    "rf_best = RandomForestRegressor(n_estimators=rf_cv.best_params_['n_estimators'],\n",
    "                               max_features=rf_cv.best_params_['max_features'],\n",
    "                               max_depth=rf_cv.best_params_['max_depth'])\n",
    "rf_best.fit(train_x_scaled, train_y)\n",
    "pred_rf = rf_best.predict(train_x_scaled)\n",
    "# mse_rf\n",
    "np.mean((pred_rf-train_y)**2)"
   ]
  },
  {
   "cell_type": "code",
   "execution_count": 135,
   "metadata": {},
   "outputs": [
    {
     "name": "stdout",
     "output_type": "stream",
     "text": [
      "[11:37:17] WARNING: C:\\Users\\Administrator\\workspace\\xgboost-win64_release_1.2.0\\src\\learner.cc:516: \n",
      "Parameters: { early_stopping_rounds } might not be used.\n",
      "\n",
      "  This may not be accurate due to some parameters are only used in language bindings but\n",
      "  passed down to XGBoost core.  Or some parameters are not used but slip through this\n",
      "  verification. Please open an issue if you find above cases.\n",
      "\n",
      "\n"
     ]
    },
    {
     "data": {
      "text/plain": [
       "{'n_estimators': 1, 'max_depth': 25, 'learning_rate': 0.3290000000000002}"
      ]
     },
     "execution_count": 135,
     "metadata": {},
     "output_type": "execute_result"
    }
   ],
   "source": [
    "param_xgb = {'learning_rate':np.arange(0.1,0.9,0.001),\n",
    "             'max_depth':list(range(1,100)),\n",
    "             'n_estimators':list(range(1,200))}\n",
    "xgb = XGBRegressor(booster='gbtree', n_jobs=-1, early_stopping_rounds=20)\n",
    "xgb_cv = RandomizedSearchCV(xgb, param_xgb, n_iter=20, n_jobs=-1, cv=5, random_state=79)\n",
    "xgb_cv.fit(train_x_scaled, train_y)\n",
    "xgb_cv.best_params_"
   ]
  },
  {
   "cell_type": "code",
   "execution_count": 136,
   "metadata": {},
   "outputs": [
    {
     "name": "stdout",
     "output_type": "stream",
     "text": [
      "[11:37:18] WARNING: C:\\Users\\Administrator\\workspace\\xgboost-win64_release_1.2.0\\src\\learner.cc:516: \n",
      "Parameters: { early_stopping_rounds } might not be used.\n",
      "\n",
      "  This may not be accurate due to some parameters are only used in language bindings but\n",
      "  passed down to XGBoost core.  Or some parameters are not used but slip through this\n",
      "  verification. Please open an issue if you find above cases.\n",
      "\n",
      "\n"
     ]
    },
    {
     "data": {
      "text/plain": [
       "0.0529177872095082"
      ]
     },
     "execution_count": 136,
     "metadata": {},
     "output_type": "execute_result"
    }
   ],
   "source": [
    "xgb_best = XGBRegressor(booster='gbtree', n_jobs=-1, early_stopping_rounds=20,\n",
    "                        n_estimators=xgb_cv.best_params_['n_estimators'],\n",
    "                        learning_rate=xgb_cv.best_params_['learning_rate'],\n",
    "                        max_depth=xgb_cv.best_params_['max_depth'])\n",
    "xgb_best.fit(train_x_scaled, train_y)\n",
    "pred_xgb = xgb_best.predict(train_x_scaled)\n",
    "# mse_xgb\n",
    "np.mean((pred_xgb-train_y)**2)"
   ]
  },
  {
   "cell_type": "markdown",
   "metadata": {},
   "source": [
    "## predict with best model : random forest regressor & xgboost"
   ]
  },
  {
   "cell_type": "code",
   "execution_count": 137,
   "metadata": {},
   "outputs": [],
   "source": [
    "rf_best = RandomForestRegressor(n_estimators=rf_cv.best_params_['n_estimators'],\n",
    "                               max_features=rf_cv.best_params_['max_features'],\n",
    "                               max_depth=rf_cv.best_params_['max_depth'])\n",
    "rf_best.fit(train_x_scaled, train_y)\n",
    "pred_rf = rf_best.predict(test_x_scaled)"
   ]
  },
  {
   "cell_type": "code",
   "execution_count": 142,
   "metadata": {},
   "outputs": [
    {
     "name": "stdout",
     "output_type": "stream",
     "text": [
      "[11:42:14] WARNING: C:\\Users\\Administrator\\workspace\\xgboost-win64_release_1.2.0\\src\\learner.cc:516: \n",
      "Parameters: { early_stopping_rounds } might not be used.\n",
      "\n",
      "  This may not be accurate due to some parameters are only used in language bindings but\n",
      "  passed down to XGBoost core.  Or some parameters are not used but slip through this\n",
      "  verification. Please open an issue if you find above cases.\n",
      "\n",
      "\n"
     ]
    }
   ],
   "source": [
    "xgb_best = XGBRegressor(booster='gbtree', n_jobs=-1, early_stopping_rounds=20,\n",
    "                        n_estimators=xgb_cv.best_params_['n_estimators'],\n",
    "                        learning_rate=xgb_cv.best_params_['learning_rate'],\n",
    "                        max_depth=xgb_cv.best_params_['max_depth'])\n",
    "xgb_best.fit(train_x_scaled, train_y)\n",
    "pred_xgb = xgb_best.predict(test_x_scaled)"
   ]
  },
  {
   "cell_type": "code",
   "execution_count": 148,
   "metadata": {
    "id": "vhpZOinVY0Dw"
   },
   "outputs": [],
   "source": [
    "#predict\n",
    "test['pred_rf'] = pred_rf\n",
    "test['pred_xgb'] = pred_xgb"
   ]
  },
  {
   "cell_type": "code",
   "execution_count": 151,
   "metadata": {
    "id": "Jr2e2h2eY0D0",
    "outputId": "b7ccc522-50e8-4acc-fbaf-9bd56593850f"
   },
   "outputs": [],
   "source": [
    "#가중평균 과정\n",
    "test_pred = test.loc[:, ['T_ID', 'VS_T_ID', 'game_count', 'pred_rf','pred_xgb']]\n",
    "\n",
    "test_pred['weighted_pred_rf'] = test_pred.game_count * test_pred.pred_rf\n",
    "test_pred['weighted_pred_xgb'] = test_pred.game_count * test_pred.pred_xgb\n",
    "team_pred = test_pred.groupby('T_ID').sum()\n",
    "team_pred['pred_wp_rf'] = team_pred.weighted_pred_rf / team_pred.game_count\n",
    "team_pred['pred_wp_wgb'] = team_pred.weighted_pred_xgb / team_pred.game_count\n",
    "\n",
    "team_pred = team_pred.iloc[:,5:]"
   ]
  },
  {
   "cell_type": "code",
   "execution_count": 152,
   "metadata": {
    "scrolled": true
   },
   "outputs": [
    {
     "data": {
      "text/html": [
       "<div>\n",
       "<style scoped>\n",
       "    .dataframe tbody tr th:only-of-type {\n",
       "        vertical-align: middle;\n",
       "    }\n",
       "\n",
       "    .dataframe tbody tr th {\n",
       "        vertical-align: top;\n",
       "    }\n",
       "\n",
       "    .dataframe thead th {\n",
       "        text-align: right;\n",
       "    }\n",
       "</style>\n",
       "<table border=\"1\" class=\"dataframe\">\n",
       "  <thead>\n",
       "    <tr style=\"text-align: right;\">\n",
       "      <th></th>\n",
       "      <th>pred_wp_rf</th>\n",
       "      <th>pred_wp_wgb</th>\n",
       "    </tr>\n",
       "    <tr>\n",
       "      <th>T_ID</th>\n",
       "      <th></th>\n",
       "      <th></th>\n",
       "    </tr>\n",
       "  </thead>\n",
       "  <tbody>\n",
       "    <tr>\n",
       "      <th>HH</th>\n",
       "      <td>0.379882</td>\n",
       "      <td>0.495114</td>\n",
       "    </tr>\n",
       "    <tr>\n",
       "      <th>HT</th>\n",
       "      <td>0.422385</td>\n",
       "      <td>0.497180</td>\n",
       "    </tr>\n",
       "    <tr>\n",
       "      <th>KT</th>\n",
       "      <td>0.504173</td>\n",
       "      <td>0.518345</td>\n",
       "    </tr>\n",
       "    <tr>\n",
       "      <th>LG</th>\n",
       "      <td>0.446562</td>\n",
       "      <td>0.509468</td>\n",
       "    </tr>\n",
       "    <tr>\n",
       "      <th>LT</th>\n",
       "      <td>0.452328</td>\n",
       "      <td>0.509172</td>\n",
       "    </tr>\n",
       "    <tr>\n",
       "      <th>NC</th>\n",
       "      <td>0.579986</td>\n",
       "      <td>0.539819</td>\n",
       "    </tr>\n",
       "    <tr>\n",
       "      <th>OB</th>\n",
       "      <td>0.570334</td>\n",
       "      <td>0.474821</td>\n",
       "    </tr>\n",
       "    <tr>\n",
       "      <th>SK</th>\n",
       "      <td>0.401247</td>\n",
       "      <td>0.460703</td>\n",
       "    </tr>\n",
       "    <tr>\n",
       "      <th>SS</th>\n",
       "      <td>0.475578</td>\n",
       "      <td>0.500070</td>\n",
       "    </tr>\n",
       "    <tr>\n",
       "      <th>WO</th>\n",
       "      <td>0.549309</td>\n",
       "      <td>0.552092</td>\n",
       "    </tr>\n",
       "  </tbody>\n",
       "</table>\n",
       "</div>"
      ],
      "text/plain": [
       "      pred_wp_rf  pred_wp_wgb\n",
       "T_ID                         \n",
       "HH      0.379882     0.495114\n",
       "HT      0.422385     0.497180\n",
       "KT      0.504173     0.518345\n",
       "LG      0.446562     0.509468\n",
       "LT      0.452328     0.509172\n",
       "NC      0.579986     0.539819\n",
       "OB      0.570334     0.474821\n",
       "SK      0.401247     0.460703\n",
       "SS      0.475578     0.500070\n",
       "WO      0.549309     0.552092"
      ]
     },
     "execution_count": 152,
     "metadata": {},
     "output_type": "execute_result"
    }
   ],
   "source": [
    "team_pred"
   ]
  },
  {
   "cell_type": "code",
   "execution_count": 154,
   "metadata": {},
   "outputs": [
    {
     "data": {
      "text/html": [
       "<div>\n",
       "<style scoped>\n",
       "    .dataframe tbody tr th:only-of-type {\n",
       "        vertical-align: middle;\n",
       "    }\n",
       "\n",
       "    .dataframe tbody tr th {\n",
       "        vertical-align: top;\n",
       "    }\n",
       "\n",
       "    .dataframe thead th {\n",
       "        text-align: right;\n",
       "    }\n",
       "</style>\n",
       "<table border=\"1\" class=\"dataframe\">\n",
       "  <thead>\n",
       "    <tr style=\"text-align: right;\">\n",
       "      <th></th>\n",
       "      <th>T_ID</th>\n",
       "      <th>pred_wp_rf</th>\n",
       "    </tr>\n",
       "  </thead>\n",
       "  <tbody>\n",
       "    <tr>\n",
       "      <th>0</th>\n",
       "      <td>HH</td>\n",
       "      <td>0.379882</td>\n",
       "    </tr>\n",
       "    <tr>\n",
       "      <th>1</th>\n",
       "      <td>HT</td>\n",
       "      <td>0.422385</td>\n",
       "    </tr>\n",
       "    <tr>\n",
       "      <th>2</th>\n",
       "      <td>KT</td>\n",
       "      <td>0.504173</td>\n",
       "    </tr>\n",
       "    <tr>\n",
       "      <th>3</th>\n",
       "      <td>LG</td>\n",
       "      <td>0.446562</td>\n",
       "    </tr>\n",
       "    <tr>\n",
       "      <th>4</th>\n",
       "      <td>LT</td>\n",
       "      <td>0.452328</td>\n",
       "    </tr>\n",
       "    <tr>\n",
       "      <th>5</th>\n",
       "      <td>NC</td>\n",
       "      <td>0.579986</td>\n",
       "    </tr>\n",
       "    <tr>\n",
       "      <th>6</th>\n",
       "      <td>OB</td>\n",
       "      <td>0.570334</td>\n",
       "    </tr>\n",
       "    <tr>\n",
       "      <th>7</th>\n",
       "      <td>SK</td>\n",
       "      <td>0.401247</td>\n",
       "    </tr>\n",
       "    <tr>\n",
       "      <th>8</th>\n",
       "      <td>SS</td>\n",
       "      <td>0.475578</td>\n",
       "    </tr>\n",
       "    <tr>\n",
       "      <th>9</th>\n",
       "      <td>WO</td>\n",
       "      <td>0.549309</td>\n",
       "    </tr>\n",
       "  </tbody>\n",
       "</table>\n",
       "</div>"
      ],
      "text/plain": [
       "  T_ID  pred_wp_rf\n",
       "0   HH    0.379882\n",
       "1   HT    0.422385\n",
       "2   KT    0.504173\n",
       "3   LG    0.446562\n",
       "4   LT    0.452328\n",
       "5   NC    0.579986\n",
       "6   OB    0.570334\n",
       "7   SK    0.401247\n",
       "8   SS    0.475578\n",
       "9   WO    0.549309"
      ]
     },
     "execution_count": 154,
     "metadata": {},
     "output_type": "execute_result"
    }
   ],
   "source": [
    "# 올해의 경기 양상을 더 잘 반영하는 random forest regression으로 최종 predict\n",
    "\n",
    "pred_final = team_pred.reset_index().iloc[:,:2]\n",
    "pred_final"
   ]
  }
 ],
 "metadata": {
  "colab": {
   "name": "200928 가중평균 승률예측 최종.ipynb",
   "provenance": []
  },
  "kernelspec": {
   "display_name": "Python 3",
   "language": "python",
   "name": "python3"
  },
  "language_info": {
   "codemirror_mode": {
    "name": "ipython",
    "version": 3
   },
   "file_extension": ".py",
   "mimetype": "text/x-python",
   "name": "python",
   "nbconvert_exporter": "python",
   "pygments_lexer": "ipython3",
   "version": "3.8.3"
  }
 },
 "nbformat": 4,
 "nbformat_minor": 1
}
